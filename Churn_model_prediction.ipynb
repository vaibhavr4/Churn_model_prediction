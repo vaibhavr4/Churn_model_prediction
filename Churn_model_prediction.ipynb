{
 "cells": [
  {
   "cell_type": "code",
   "execution_count": 2,
   "metadata": {},
   "outputs": [],
   "source": [
    "# Importing the libraries\n",
    "import numpy as np\n",
    "import matplotlib.pyplot as plt\n",
    "import pandas as pd"
   ]
  },
  {
   "cell_type": "code",
   "execution_count": 3,
   "metadata": {},
   "outputs": [],
   "source": [
    "# Importing the dataset\n",
    "dataset = pd.read_csv('Churn_Modelling.csv')\n",
    "X = dataset.iloc[:, 3:13].values\n",
    "y = dataset.iloc[:, 13].values"
   ]
  },
  {
   "cell_type": "code",
   "execution_count": 5,
   "metadata": {},
   "outputs": [
    {
     "data": {
      "text/html": [
       "<div>\n",
       "<style scoped>\n",
       "    .dataframe tbody tr th:only-of-type {\n",
       "        vertical-align: middle;\n",
       "    }\n",
       "\n",
       "    .dataframe tbody tr th {\n",
       "        vertical-align: top;\n",
       "    }\n",
       "\n",
       "    .dataframe thead th {\n",
       "        text-align: right;\n",
       "    }\n",
       "</style>\n",
       "<table border=\"1\" class=\"dataframe\">\n",
       "  <thead>\n",
       "    <tr style=\"text-align: right;\">\n",
       "      <th></th>\n",
       "      <th>RowNumber</th>\n",
       "      <th>CustomerId</th>\n",
       "      <th>CreditScore</th>\n",
       "      <th>Age</th>\n",
       "      <th>Tenure</th>\n",
       "      <th>Balance</th>\n",
       "      <th>NumOfProducts</th>\n",
       "      <th>HasCrCard</th>\n",
       "      <th>IsActiveMember</th>\n",
       "      <th>EstimatedSalary</th>\n",
       "      <th>Exited</th>\n",
       "    </tr>\n",
       "  </thead>\n",
       "  <tbody>\n",
       "    <tr>\n",
       "      <th>count</th>\n",
       "      <td>10000.00000</td>\n",
       "      <td>1.000000e+04</td>\n",
       "      <td>10000.000000</td>\n",
       "      <td>10000.000000</td>\n",
       "      <td>10000.000000</td>\n",
       "      <td>10000.000000</td>\n",
       "      <td>10000.000000</td>\n",
       "      <td>10000.00000</td>\n",
       "      <td>10000.000000</td>\n",
       "      <td>10000.000000</td>\n",
       "      <td>10000.000000</td>\n",
       "    </tr>\n",
       "    <tr>\n",
       "      <th>mean</th>\n",
       "      <td>5000.50000</td>\n",
       "      <td>1.569094e+07</td>\n",
       "      <td>650.528800</td>\n",
       "      <td>38.921800</td>\n",
       "      <td>5.012800</td>\n",
       "      <td>76485.889288</td>\n",
       "      <td>1.530200</td>\n",
       "      <td>0.70550</td>\n",
       "      <td>0.515100</td>\n",
       "      <td>100090.239881</td>\n",
       "      <td>0.203700</td>\n",
       "    </tr>\n",
       "    <tr>\n",
       "      <th>std</th>\n",
       "      <td>2886.89568</td>\n",
       "      <td>7.193619e+04</td>\n",
       "      <td>96.653299</td>\n",
       "      <td>10.487806</td>\n",
       "      <td>2.892174</td>\n",
       "      <td>62397.405202</td>\n",
       "      <td>0.581654</td>\n",
       "      <td>0.45584</td>\n",
       "      <td>0.499797</td>\n",
       "      <td>57510.492818</td>\n",
       "      <td>0.402769</td>\n",
       "    </tr>\n",
       "    <tr>\n",
       "      <th>min</th>\n",
       "      <td>1.00000</td>\n",
       "      <td>1.556570e+07</td>\n",
       "      <td>350.000000</td>\n",
       "      <td>18.000000</td>\n",
       "      <td>0.000000</td>\n",
       "      <td>0.000000</td>\n",
       "      <td>1.000000</td>\n",
       "      <td>0.00000</td>\n",
       "      <td>0.000000</td>\n",
       "      <td>11.580000</td>\n",
       "      <td>0.000000</td>\n",
       "    </tr>\n",
       "    <tr>\n",
       "      <th>25%</th>\n",
       "      <td>2500.75000</td>\n",
       "      <td>1.562853e+07</td>\n",
       "      <td>584.000000</td>\n",
       "      <td>32.000000</td>\n",
       "      <td>3.000000</td>\n",
       "      <td>0.000000</td>\n",
       "      <td>1.000000</td>\n",
       "      <td>0.00000</td>\n",
       "      <td>0.000000</td>\n",
       "      <td>51002.110000</td>\n",
       "      <td>0.000000</td>\n",
       "    </tr>\n",
       "    <tr>\n",
       "      <th>50%</th>\n",
       "      <td>5000.50000</td>\n",
       "      <td>1.569074e+07</td>\n",
       "      <td>652.000000</td>\n",
       "      <td>37.000000</td>\n",
       "      <td>5.000000</td>\n",
       "      <td>97198.540000</td>\n",
       "      <td>1.000000</td>\n",
       "      <td>1.00000</td>\n",
       "      <td>1.000000</td>\n",
       "      <td>100193.915000</td>\n",
       "      <td>0.000000</td>\n",
       "    </tr>\n",
       "    <tr>\n",
       "      <th>75%</th>\n",
       "      <td>7500.25000</td>\n",
       "      <td>1.575323e+07</td>\n",
       "      <td>718.000000</td>\n",
       "      <td>44.000000</td>\n",
       "      <td>7.000000</td>\n",
       "      <td>127644.240000</td>\n",
       "      <td>2.000000</td>\n",
       "      <td>1.00000</td>\n",
       "      <td>1.000000</td>\n",
       "      <td>149388.247500</td>\n",
       "      <td>0.000000</td>\n",
       "    </tr>\n",
       "    <tr>\n",
       "      <th>max</th>\n",
       "      <td>10000.00000</td>\n",
       "      <td>1.581569e+07</td>\n",
       "      <td>850.000000</td>\n",
       "      <td>92.000000</td>\n",
       "      <td>10.000000</td>\n",
       "      <td>250898.090000</td>\n",
       "      <td>4.000000</td>\n",
       "      <td>1.00000</td>\n",
       "      <td>1.000000</td>\n",
       "      <td>199992.480000</td>\n",
       "      <td>1.000000</td>\n",
       "    </tr>\n",
       "  </tbody>\n",
       "</table>\n",
       "</div>"
      ],
      "text/plain": [
       "         RowNumber    CustomerId   CreditScore           Age        Tenure  \\\n",
       "count  10000.00000  1.000000e+04  10000.000000  10000.000000  10000.000000   \n",
       "mean    5000.50000  1.569094e+07    650.528800     38.921800      5.012800   \n",
       "std     2886.89568  7.193619e+04     96.653299     10.487806      2.892174   \n",
       "min        1.00000  1.556570e+07    350.000000     18.000000      0.000000   \n",
       "25%     2500.75000  1.562853e+07    584.000000     32.000000      3.000000   \n",
       "50%     5000.50000  1.569074e+07    652.000000     37.000000      5.000000   \n",
       "75%     7500.25000  1.575323e+07    718.000000     44.000000      7.000000   \n",
       "max    10000.00000  1.581569e+07    850.000000     92.000000     10.000000   \n",
       "\n",
       "             Balance  NumOfProducts    HasCrCard  IsActiveMember  \\\n",
       "count   10000.000000   10000.000000  10000.00000    10000.000000   \n",
       "mean    76485.889288       1.530200      0.70550        0.515100   \n",
       "std     62397.405202       0.581654      0.45584        0.499797   \n",
       "min         0.000000       1.000000      0.00000        0.000000   \n",
       "25%         0.000000       1.000000      0.00000        0.000000   \n",
       "50%     97198.540000       1.000000      1.00000        1.000000   \n",
       "75%    127644.240000       2.000000      1.00000        1.000000   \n",
       "max    250898.090000       4.000000      1.00000        1.000000   \n",
       "\n",
       "       EstimatedSalary        Exited  \n",
       "count     10000.000000  10000.000000  \n",
       "mean     100090.239881      0.203700  \n",
       "std       57510.492818      0.402769  \n",
       "min          11.580000      0.000000  \n",
       "25%       51002.110000      0.000000  \n",
       "50%      100193.915000      0.000000  \n",
       "75%      149388.247500      0.000000  \n",
       "max      199992.480000      1.000000  "
      ]
     },
     "execution_count": 5,
     "metadata": {},
     "output_type": "execute_result"
    }
   ],
   "source": [
    "dataset.describe()"
   ]
  },
  {
   "cell_type": "markdown",
   "metadata": {},
   "source": [
    "## Display columns in dataset"
   ]
  },
  {
   "cell_type": "code",
   "execution_count": 9,
   "metadata": {},
   "outputs": [
    {
     "data": {
      "text/plain": [
       "Index(['RowNumber', 'CustomerId', 'Surname', 'CreditScore', 'Geography',\n",
       "       'Gender', 'Age', 'Tenure', 'Balance', 'NumOfProducts', 'HasCrCard',\n",
       "       'IsActiveMember', 'EstimatedSalary', 'Exited'],\n",
       "      dtype='object')"
      ]
     },
     "execution_count": 9,
     "metadata": {},
     "output_type": "execute_result"
    }
   ],
   "source": [
    "dataset.columns"
   ]
  },
  {
   "cell_type": "markdown",
   "metadata": {},
   "source": [
    "## Display first few rows"
   ]
  },
  {
   "cell_type": "code",
   "execution_count": 10,
   "metadata": {},
   "outputs": [
    {
     "data": {
      "text/html": [
       "<div>\n",
       "<style scoped>\n",
       "    .dataframe tbody tr th:only-of-type {\n",
       "        vertical-align: middle;\n",
       "    }\n",
       "\n",
       "    .dataframe tbody tr th {\n",
       "        vertical-align: top;\n",
       "    }\n",
       "\n",
       "    .dataframe thead th {\n",
       "        text-align: right;\n",
       "    }\n",
       "</style>\n",
       "<table border=\"1\" class=\"dataframe\">\n",
       "  <thead>\n",
       "    <tr style=\"text-align: right;\">\n",
       "      <th></th>\n",
       "      <th>RowNumber</th>\n",
       "      <th>CustomerId</th>\n",
       "      <th>Surname</th>\n",
       "      <th>CreditScore</th>\n",
       "      <th>Geography</th>\n",
       "      <th>Gender</th>\n",
       "      <th>Age</th>\n",
       "      <th>Tenure</th>\n",
       "      <th>Balance</th>\n",
       "      <th>NumOfProducts</th>\n",
       "      <th>HasCrCard</th>\n",
       "      <th>IsActiveMember</th>\n",
       "      <th>EstimatedSalary</th>\n",
       "      <th>Exited</th>\n",
       "    </tr>\n",
       "  </thead>\n",
       "  <tbody>\n",
       "    <tr>\n",
       "      <th>0</th>\n",
       "      <td>1</td>\n",
       "      <td>15634602</td>\n",
       "      <td>Hargrave</td>\n",
       "      <td>619</td>\n",
       "      <td>France</td>\n",
       "      <td>Female</td>\n",
       "      <td>42</td>\n",
       "      <td>2</td>\n",
       "      <td>0.00</td>\n",
       "      <td>1</td>\n",
       "      <td>1</td>\n",
       "      <td>1</td>\n",
       "      <td>101348.88</td>\n",
       "      <td>1</td>\n",
       "    </tr>\n",
       "    <tr>\n",
       "      <th>1</th>\n",
       "      <td>2</td>\n",
       "      <td>15647311</td>\n",
       "      <td>Hill</td>\n",
       "      <td>608</td>\n",
       "      <td>Spain</td>\n",
       "      <td>Female</td>\n",
       "      <td>41</td>\n",
       "      <td>1</td>\n",
       "      <td>83807.86</td>\n",
       "      <td>1</td>\n",
       "      <td>0</td>\n",
       "      <td>1</td>\n",
       "      <td>112542.58</td>\n",
       "      <td>0</td>\n",
       "    </tr>\n",
       "    <tr>\n",
       "      <th>2</th>\n",
       "      <td>3</td>\n",
       "      <td>15619304</td>\n",
       "      <td>Onio</td>\n",
       "      <td>502</td>\n",
       "      <td>France</td>\n",
       "      <td>Female</td>\n",
       "      <td>42</td>\n",
       "      <td>8</td>\n",
       "      <td>159660.80</td>\n",
       "      <td>3</td>\n",
       "      <td>1</td>\n",
       "      <td>0</td>\n",
       "      <td>113931.57</td>\n",
       "      <td>1</td>\n",
       "    </tr>\n",
       "    <tr>\n",
       "      <th>3</th>\n",
       "      <td>4</td>\n",
       "      <td>15701354</td>\n",
       "      <td>Boni</td>\n",
       "      <td>699</td>\n",
       "      <td>France</td>\n",
       "      <td>Female</td>\n",
       "      <td>39</td>\n",
       "      <td>1</td>\n",
       "      <td>0.00</td>\n",
       "      <td>2</td>\n",
       "      <td>0</td>\n",
       "      <td>0</td>\n",
       "      <td>93826.63</td>\n",
       "      <td>0</td>\n",
       "    </tr>\n",
       "    <tr>\n",
       "      <th>4</th>\n",
       "      <td>5</td>\n",
       "      <td>15737888</td>\n",
       "      <td>Mitchell</td>\n",
       "      <td>850</td>\n",
       "      <td>Spain</td>\n",
       "      <td>Female</td>\n",
       "      <td>43</td>\n",
       "      <td>2</td>\n",
       "      <td>125510.82</td>\n",
       "      <td>1</td>\n",
       "      <td>1</td>\n",
       "      <td>1</td>\n",
       "      <td>79084.10</td>\n",
       "      <td>0</td>\n",
       "    </tr>\n",
       "  </tbody>\n",
       "</table>\n",
       "</div>"
      ],
      "text/plain": [
       "   RowNumber  CustomerId   Surname  CreditScore Geography  Gender  Age  \\\n",
       "0          1    15634602  Hargrave          619    France  Female   42   \n",
       "1          2    15647311      Hill          608     Spain  Female   41   \n",
       "2          3    15619304      Onio          502    France  Female   42   \n",
       "3          4    15701354      Boni          699    France  Female   39   \n",
       "4          5    15737888  Mitchell          850     Spain  Female   43   \n",
       "\n",
       "   Tenure    Balance  NumOfProducts  HasCrCard  IsActiveMember  \\\n",
       "0       2       0.00              1          1               1   \n",
       "1       1   83807.86              1          0               1   \n",
       "2       8  159660.80              3          1               0   \n",
       "3       1       0.00              2          0               0   \n",
       "4       2  125510.82              1          1               1   \n",
       "\n",
       "   EstimatedSalary  Exited  \n",
       "0        101348.88       1  \n",
       "1        112542.58       0  \n",
       "2        113931.57       1  \n",
       "3         93826.63       0  \n",
       "4         79084.10       0  "
      ]
     },
     "execution_count": 10,
     "metadata": {},
     "output_type": "execute_result"
    }
   ],
   "source": [
    "dataset.head()"
   ]
  },
  {
   "cell_type": "code",
   "execution_count": 20,
   "metadata": {},
   "outputs": [
    {
     "data": {
      "text/plain": [
       "array([[619, 'France', 'Female', 42, 2, 0.0, 1, 1, 1, 101348.88],\n",
       "       [608, 'Spain', 'Female', 41, 1, 83807.86, 1, 0, 1, 112542.58],\n",
       "       [502, 'France', 'Female', 42, 8, 159660.8, 3, 1, 0, 113931.57],\n",
       "       [699, 'France', 'Female', 39, 1, 0.0, 2, 0, 0, 93826.63],\n",
       "       [850, 'Spain', 'Female', 43, 2, 125510.82, 1, 1, 1, 79084.1],\n",
       "       [645, 'Spain', 'Male', 44, 8, 113755.78, 2, 1, 0, 149756.71],\n",
       "       [822, 'France', 'Male', 50, 7, 0.0, 2, 1, 1, 10062.8],\n",
       "       [376, 'Germany', 'Female', 29, 4, 115046.74, 4, 1, 0, 119346.88],\n",
       "       [501, 'France', 'Male', 44, 4, 142051.07, 2, 0, 1, 74940.5],\n",
       "       [684, 'France', 'Male', 27, 2, 134603.88, 1, 1, 1, 71725.73]],\n",
       "      dtype=object)"
      ]
     },
     "execution_count": 20,
     "metadata": {},
     "output_type": "execute_result"
    }
   ],
   "source": [
    "X[:10]"
   ]
  },
  {
   "cell_type": "markdown",
   "metadata": {},
   "source": [
    "## Encoding categorical data - Geography and Gender"
   ]
  },
  {
   "cell_type": "code",
   "execution_count": 21,
   "metadata": {},
   "outputs": [],
   "source": [
    "# Encoding categorical data\n",
    "from sklearn.preprocessing import LabelEncoder, OneHotEncoder\n",
    "labelencoder_X_1 = LabelEncoder()\n",
    "X[:, 1] = labelencoder_X_1.fit_transform(X[:, 1])\n",
    "labelencoder_X_2 = LabelEncoder()\n",
    "X[:, 2] = labelencoder_X_2.fit_transform(X[:, 2])\n"
   ]
  },
  {
   "cell_type": "code",
   "execution_count": 22,
   "metadata": {},
   "outputs": [
    {
     "data": {
      "text/plain": [
       "array([[619, 0, 0, 42, 2, 0.0, 1, 1, 1, 101348.88],\n",
       "       [608, 2, 0, 41, 1, 83807.86, 1, 0, 1, 112542.58],\n",
       "       [502, 0, 0, 42, 8, 159660.8, 3, 1, 0, 113931.57],\n",
       "       [699, 0, 0, 39, 1, 0.0, 2, 0, 0, 93826.63],\n",
       "       [850, 2, 0, 43, 2, 125510.82, 1, 1, 1, 79084.1],\n",
       "       [645, 2, 1, 44, 8, 113755.78, 2, 1, 0, 149756.71],\n",
       "       [822, 0, 1, 50, 7, 0.0, 2, 1, 1, 10062.8],\n",
       "       [376, 1, 0, 29, 4, 115046.74, 4, 1, 0, 119346.88],\n",
       "       [501, 0, 1, 44, 4, 142051.07, 2, 0, 1, 74940.5],\n",
       "       [684, 0, 1, 27, 2, 134603.88, 1, 1, 1, 71725.73]], dtype=object)"
      ]
     },
     "execution_count": 22,
     "metadata": {},
     "output_type": "execute_result"
    }
   ],
   "source": [
    "X[:10]"
   ]
  },
  {
   "cell_type": "markdown",
   "metadata": {},
   "source": [
    "## Using One hot encoder to encode Geography"
   ]
  },
  {
   "cell_type": "code",
   "execution_count": 23,
   "metadata": {},
   "outputs": [],
   "source": [
    "onehotencoder = OneHotEncoder(categorical_features = [1])\n",
    "X = onehotencoder.fit_transform(X).toarray()\n",
    "X = X[:, 1:]\n"
   ]
  },
  {
   "cell_type": "code",
   "execution_count": 24,
   "metadata": {},
   "outputs": [
    {
     "data": {
      "text/plain": [
       "array([[0.0000000e+00, 0.0000000e+00, 6.1900000e+02, 0.0000000e+00,\n",
       "        4.2000000e+01, 2.0000000e+00, 0.0000000e+00, 1.0000000e+00,\n",
       "        1.0000000e+00, 1.0000000e+00, 1.0134888e+05],\n",
       "       [0.0000000e+00, 1.0000000e+00, 6.0800000e+02, 0.0000000e+00,\n",
       "        4.1000000e+01, 1.0000000e+00, 8.3807860e+04, 1.0000000e+00,\n",
       "        0.0000000e+00, 1.0000000e+00, 1.1254258e+05],\n",
       "       [0.0000000e+00, 0.0000000e+00, 5.0200000e+02, 0.0000000e+00,\n",
       "        4.2000000e+01, 8.0000000e+00, 1.5966080e+05, 3.0000000e+00,\n",
       "        1.0000000e+00, 0.0000000e+00, 1.1393157e+05],\n",
       "       [0.0000000e+00, 0.0000000e+00, 6.9900000e+02, 0.0000000e+00,\n",
       "        3.9000000e+01, 1.0000000e+00, 0.0000000e+00, 2.0000000e+00,\n",
       "        0.0000000e+00, 0.0000000e+00, 9.3826630e+04],\n",
       "       [0.0000000e+00, 1.0000000e+00, 8.5000000e+02, 0.0000000e+00,\n",
       "        4.3000000e+01, 2.0000000e+00, 1.2551082e+05, 1.0000000e+00,\n",
       "        1.0000000e+00, 1.0000000e+00, 7.9084100e+04],\n",
       "       [0.0000000e+00, 1.0000000e+00, 6.4500000e+02, 1.0000000e+00,\n",
       "        4.4000000e+01, 8.0000000e+00, 1.1375578e+05, 2.0000000e+00,\n",
       "        1.0000000e+00, 0.0000000e+00, 1.4975671e+05],\n",
       "       [0.0000000e+00, 0.0000000e+00, 8.2200000e+02, 1.0000000e+00,\n",
       "        5.0000000e+01, 7.0000000e+00, 0.0000000e+00, 2.0000000e+00,\n",
       "        1.0000000e+00, 1.0000000e+00, 1.0062800e+04],\n",
       "       [1.0000000e+00, 0.0000000e+00, 3.7600000e+02, 0.0000000e+00,\n",
       "        2.9000000e+01, 4.0000000e+00, 1.1504674e+05, 4.0000000e+00,\n",
       "        1.0000000e+00, 0.0000000e+00, 1.1934688e+05],\n",
       "       [0.0000000e+00, 0.0000000e+00, 5.0100000e+02, 1.0000000e+00,\n",
       "        4.4000000e+01, 4.0000000e+00, 1.4205107e+05, 2.0000000e+00,\n",
       "        0.0000000e+00, 1.0000000e+00, 7.4940500e+04],\n",
       "       [0.0000000e+00, 0.0000000e+00, 6.8400000e+02, 1.0000000e+00,\n",
       "        2.7000000e+01, 2.0000000e+00, 1.3460388e+05, 1.0000000e+00,\n",
       "        1.0000000e+00, 1.0000000e+00, 7.1725730e+04]])"
      ]
     },
     "execution_count": 24,
     "metadata": {},
     "output_type": "execute_result"
    }
   ],
   "source": [
    "X[:10]"
   ]
  },
  {
   "cell_type": "markdown",
   "metadata": {},
   "source": [
    "## The input features have been encoded and are of same type"
   ]
  },
  {
   "cell_type": "code",
   "execution_count": 28,
   "metadata": {},
   "outputs": [],
   "source": [
    "# Splitting the dataset into the Training set and Test set\n",
    "from sklearn.model_selection import train_test_split\n",
    "X_train, X_test, y_train, y_test = train_test_split(X, y, test_size = 0.2, random_state = 0)"
   ]
  },
  {
   "cell_type": "code",
   "execution_count": 39,
   "metadata": {},
   "outputs": [
    {
     "data": {
      "text/plain": [
       "1837438763.1663566"
      ]
     },
     "execution_count": 39,
     "metadata": {},
     "output_type": "execute_result"
    }
   ],
   "source": [
    "X.var()"
   ]
  },
  {
   "cell_type": "markdown",
   "metadata": {},
   "source": [
    "## Applying feature scaling"
   ]
  },
  {
   "cell_type": "code",
   "execution_count": 40,
   "metadata": {},
   "outputs": [],
   "source": [
    "# Feature Scaling\n",
    "from sklearn.preprocessing import StandardScaler\n",
    "sc = StandardScaler()\n",
    "X_train = sc.fit_transform(X_train)\n",
    "X_test = sc.transform(X_test)"
   ]
  },
  {
   "cell_type": "markdown",
   "metadata": {},
   "source": [
    "## Implementing Artificial neural network"
   ]
  },
  {
   "cell_type": "code",
   "execution_count": 41,
   "metadata": {},
   "outputs": [
    {
     "name": "stderr",
     "output_type": "stream",
     "text": [
      "C:\\Softwares\\Anaconda\\lib\\site-packages\\h5py\\__init__.py:36: FutureWarning: Conversion of the second argument of issubdtype from `float` to `np.floating` is deprecated. In future, it will be treated as `np.float64 == np.dtype(float).type`.\n",
      "  from ._conv import register_converters as _register_converters\n",
      "Using TensorFlow backend.\n"
     ]
    }
   ],
   "source": [
    "# Importing the Keras libraries and packages\n",
    "import keras\n",
    "from keras.models import Sequential\n",
    "from keras.layers import Dense"
   ]
  },
  {
   "cell_type": "code",
   "execution_count": 42,
   "metadata": {},
   "outputs": [],
   "source": [
    "# Initialising the ANN\n",
    "classifier = Sequential()"
   ]
  },
  {
   "cell_type": "code",
   "execution_count": 43,
   "metadata": {},
   "outputs": [],
   "source": [
    "# Adding the input layer and the first hidden layer\n",
    "classifier.add(Dense(units = 6, kernel_initializer = 'uniform', activation = 'relu', input_dim = 11))"
   ]
  },
  {
   "cell_type": "code",
   "execution_count": 44,
   "metadata": {},
   "outputs": [],
   "source": [
    "# Adding the second hidden layer\n",
    "classifier.add(Dense(units = 6, kernel_initializer = 'uniform', activation = 'relu'))"
   ]
  },
  {
   "cell_type": "code",
   "execution_count": 45,
   "metadata": {},
   "outputs": [],
   "source": [
    "# Adding the output layer\n",
    "classifier.add(Dense(units = 1, kernel_initializer = 'uniform', activation = 'sigmoid'))"
   ]
  },
  {
   "cell_type": "code",
   "execution_count": 46,
   "metadata": {},
   "outputs": [],
   "source": [
    "# Compiling the ANN\n",
    "classifier.compile(optimizer = 'adam', loss = 'binary_crossentropy', metrics = ['accuracy'])"
   ]
  },
  {
   "cell_type": "code",
   "execution_count": 47,
   "metadata": {},
   "outputs": [
    {
     "name": "stderr",
     "output_type": "stream",
     "text": [
      "C:\\Softwares\\Anaconda\\lib\\site-packages\\ipykernel_launcher.py:2: UserWarning: The `nb_epoch` argument in `fit` has been renamed `epochs`.\n",
      "  \n"
     ]
    },
    {
     "name": "stdout",
     "output_type": "stream",
     "text": [
      "Epoch 1/100\n",
      "8000/8000 [==============================] - 2s 227us/step - loss: 0.4865 - acc: 0.7955\n",
      "Epoch 2/100\n",
      "8000/8000 [==============================] - 1s 181us/step - loss: 0.4304 - acc: 0.7960\n",
      "Epoch 3/100\n",
      "8000/8000 [==============================] - 1s 182us/step - loss: 0.4261 - acc: 0.7960\n",
      "Epoch 4/100\n",
      "8000/8000 [==============================] - 1s 182us/step - loss: 0.4212 - acc: 0.8094\n",
      "Epoch 5/100\n",
      "8000/8000 [==============================] - 1s 185us/step - loss: 0.4175 - acc: 0.8265\n",
      "Epoch 6/100\n",
      "8000/8000 [==============================] - 2s 188us/step - loss: 0.4157 - acc: 0.8279\n",
      "Epoch 7/100\n",
      "8000/8000 [==============================] - 2s 188us/step - loss: 0.4134 - acc: 0.8312\n",
      "Epoch 8/100\n",
      "8000/8000 [==============================] - 1s 180us/step - loss: 0.4121 - acc: 0.8301\n",
      "Epoch 9/100\n",
      "8000/8000 [==============================] - 1s 172us/step - loss: 0.4111 - acc: 0.8329\n",
      "Epoch 10/100\n",
      "8000/8000 [==============================] - 1s 182us/step - loss: 0.4100 - acc: 0.8337\n",
      "Epoch 11/100\n",
      "8000/8000 [==============================] - 1s 185us/step - loss: 0.4089 - acc: 0.8354\n",
      "Epoch 12/100\n",
      "8000/8000 [==============================] - 1s 185us/step - loss: 0.4082 - acc: 0.8337\n",
      "Epoch 13/100\n",
      "8000/8000 [==============================] - 1s 185us/step - loss: 0.4073 - acc: 0.8339\n",
      "Epoch 14/100\n",
      "8000/8000 [==============================] - 1s 184us/step - loss: 0.4068 - acc: 0.8346\n",
      "Epoch 15/100\n",
      "8000/8000 [==============================] - 1s 183us/step - loss: 0.4062 - acc: 0.8336\n",
      "Epoch 16/100\n",
      "8000/8000 [==============================] - 1s 177us/step - loss: 0.4055 - acc: 0.8360\n",
      "Epoch 17/100\n",
      "8000/8000 [==============================] - 1s 180us/step - loss: 0.4054 - acc: 0.8337\n",
      "Epoch 18/100\n",
      "8000/8000 [==============================] - 2s 188us/step - loss: 0.4049 - acc: 0.8359\n",
      "Epoch 19/100\n",
      "8000/8000 [==============================] - 2s 189us/step - loss: 0.4044 - acc: 0.8346\n",
      "Epoch 20/100\n",
      "8000/8000 [==============================] - 1s 186us/step - loss: 0.4045 - acc: 0.8344\n",
      "Epoch 21/100\n",
      "8000/8000 [==============================] - 1s 185us/step - loss: 0.4037 - acc: 0.8354\n",
      "Epoch 22/100\n",
      "8000/8000 [==============================] - 1s 183us/step - loss: 0.4034 - acc: 0.8345\n",
      "Epoch 23/100\n",
      "8000/8000 [==============================] - 1s 183us/step - loss: 0.4034 - acc: 0.8344\n",
      "Epoch 24/100\n",
      "8000/8000 [==============================] - 1s 185us/step - loss: 0.4032 - acc: 0.8349\n",
      "Epoch 25/100\n",
      "8000/8000 [==============================] - 1s 181us/step - loss: 0.4030 - acc: 0.8337\n",
      "Epoch 26/100\n",
      "8000/8000 [==============================] - 2s 188us/step - loss: 0.4026 - acc: 0.8345\n",
      "Epoch 27/100\n",
      "8000/8000 [==============================] - 1s 183us/step - loss: 0.4020 - acc: 0.8356\n",
      "Epoch 28/100\n",
      "8000/8000 [==============================] - 1s 182us/step - loss: 0.4030 - acc: 0.8350\n",
      "Epoch 29/100\n",
      "8000/8000 [==============================] - 1s 187us/step - loss: 0.4025 - acc: 0.8351\n",
      "Epoch 30/100\n",
      "8000/8000 [==============================] - 2s 191us/step - loss: 0.4019 - acc: 0.8344\n",
      "Epoch 31/100\n",
      "8000/8000 [==============================] - 1s 184us/step - loss: 0.4022 - acc: 0.8351\n",
      "Epoch 32/100\n",
      "8000/8000 [==============================] - 1s 181us/step - loss: 0.4021 - acc: 0.8355\n",
      "Epoch 33/100\n",
      "8000/8000 [==============================] - 1s 184us/step - loss: 0.4018 - acc: 0.8361\n",
      "Epoch 34/100\n",
      "8000/8000 [==============================] - 1s 165us/step - loss: 0.4018 - acc: 0.8359\n",
      "Epoch 35/100\n",
      "8000/8000 [==============================] - 1s 175us/step - loss: 0.4016 - acc: 0.8364\n",
      "Epoch 36/100\n",
      "8000/8000 [==============================] - 1s 176us/step - loss: 0.4015 - acc: 0.8340\n",
      "Epoch 37/100\n",
      "8000/8000 [==============================] - 2s 188us/step - loss: 0.4017 - acc: 0.8355\n",
      "Epoch 38/100\n",
      "8000/8000 [==============================] - 1s 185us/step - loss: 0.4014 - acc: 0.8352\n",
      "Epoch 39/100\n",
      "8000/8000 [==============================] - 1s 172us/step - loss: 0.4008 - acc: 0.8342\n",
      "Epoch 40/100\n",
      "8000/8000 [==============================] - 1s 181us/step - loss: 0.4010 - acc: 0.8349\n",
      "Epoch 41/100\n",
      "8000/8000 [==============================] - 1s 177us/step - loss: 0.4014 - acc: 0.8341\n",
      "Epoch 42/100\n",
      "8000/8000 [==============================] - 1s 183us/step - loss: 0.4010 - acc: 0.8344\n",
      "Epoch 43/100\n",
      "8000/8000 [==============================] - 1s 174us/step - loss: 0.4015 - acc: 0.8350\n",
      "Epoch 44/100\n",
      "8000/8000 [==============================] - 1s 170us/step - loss: 0.4011 - acc: 0.8339\n",
      "Epoch 45/100\n",
      "8000/8000 [==============================] - 1s 168us/step - loss: 0.4013 - acc: 0.8341\n",
      "Epoch 46/100\n",
      "8000/8000 [==============================] - 1s 170us/step - loss: 0.4004 - acc: 0.8354\n",
      "Epoch 47/100\n",
      "8000/8000 [==============================] - 1s 173us/step - loss: 0.4011 - acc: 0.8340\n",
      "Epoch 48/100\n",
      "8000/8000 [==============================] - 1s 184us/step - loss: 0.4009 - acc: 0.8345\n",
      "Epoch 49/100\n",
      "8000/8000 [==============================] - 1s 147us/step - loss: 0.4011 - acc: 0.8345\n",
      "Epoch 50/100\n",
      "8000/8000 [==============================] - 1s 72us/step - loss: 0.4007 - acc: 0.8339\n",
      "Epoch 51/100\n",
      "8000/8000 [==============================] - 1s 72us/step - loss: 0.4007 - acc: 0.8352\n",
      "Epoch 52/100\n",
      "8000/8000 [==============================] - 1s 74us/step - loss: 0.4005 - acc: 0.8359\n",
      "Epoch 53/100\n",
      "8000/8000 [==============================] - 1s 73us/step - loss: 0.4005 - acc: 0.8336\n",
      "Epoch 54/100\n",
      "8000/8000 [==============================] - 1s 78us/step - loss: 0.4000 - acc: 0.8352\n",
      "Epoch 55/100\n",
      "8000/8000 [==============================] - 1s 79us/step - loss: 0.4006 - acc: 0.8336\n",
      "Epoch 56/100\n",
      "8000/8000 [==============================] - 1s 78us/step - loss: 0.4009 - acc: 0.8364\n",
      "Epoch 57/100\n",
      "8000/8000 [==============================] - 1s 72us/step - loss: 0.4008 - acc: 0.8345\n",
      "Epoch 58/100\n",
      "8000/8000 [==============================] - 1s 75us/step - loss: 0.4004 - acc: 0.8344\n",
      "Epoch 59/100\n",
      "8000/8000 [==============================] - 1s 72us/step - loss: 0.4007 - acc: 0.8362\n",
      "Epoch 60/100\n",
      "8000/8000 [==============================] - 1s 70us/step - loss: 0.4006 - acc: 0.8355\n",
      "Epoch 61/100\n",
      "8000/8000 [==============================] - 1s 71us/step - loss: 0.4005 - acc: 0.8349\n",
      "Epoch 62/100\n",
      "8000/8000 [==============================] - 1s 71us/step - loss: 0.4003 - acc: 0.8351\n",
      "Epoch 63/100\n",
      "8000/8000 [==============================] - 1s 76us/step - loss: 0.4005 - acc: 0.8354\n",
      "Epoch 64/100\n",
      "8000/8000 [==============================] - 1s 84us/step - loss: 0.4006 - acc: 0.8340\n",
      "Epoch 65/100\n",
      "8000/8000 [==============================] - 1s 85us/step - loss: 0.4002 - acc: 0.8340\n",
      "Epoch 66/100\n",
      "8000/8000 [==============================] - 1s 85us/step - loss: 0.4007 - acc: 0.8341\n",
      "Epoch 67/100\n",
      "8000/8000 [==============================] - 1s 77us/step - loss: 0.4002 - acc: 0.8347\n",
      "Epoch 68/100\n",
      "8000/8000 [==============================] - 1s 68us/step - loss: 0.4001 - acc: 0.8337\n",
      "Epoch 69/100\n",
      "8000/8000 [==============================] - 1s 71us/step - loss: 0.4003 - acc: 0.8352\n",
      "Epoch 70/100\n",
      "8000/8000 [==============================] - 1s 87us/step - loss: 0.4002 - acc: 0.8351\n",
      "Epoch 71/100\n",
      "8000/8000 [==============================] - 1s 130us/step - loss: 0.4008 - acc: 0.8341\n",
      "Epoch 72/100\n",
      "8000/8000 [==============================] - 1s 181us/step - loss: 0.4003 - acc: 0.8350\n",
      "Epoch 73/100\n",
      "8000/8000 [==============================] - 1s 175us/step - loss: 0.4005 - acc: 0.8360\n",
      "Epoch 74/100\n",
      "8000/8000 [==============================] - 1s 183us/step - loss: 0.3999 - acc: 0.8359\n",
      "Epoch 75/100\n",
      "8000/8000 [==============================] - 2s 195us/step - loss: 0.4000 - acc: 0.8352\n",
      "Epoch 76/100\n",
      "8000/8000 [==============================] - 2s 202us/step - loss: 0.4001 - acc: 0.8341\n",
      "Epoch 77/100\n",
      "8000/8000 [==============================] - 2s 192us/step - loss: 0.4000 - acc: 0.8350\n",
      "Epoch 78/100\n",
      "8000/8000 [==============================] - 2s 190us/step - loss: 0.4003 - acc: 0.8332\n",
      "Epoch 79/100\n",
      "8000/8000 [==============================] - 2s 193us/step - loss: 0.4001 - acc: 0.8351\n",
      "Epoch 80/100\n",
      "8000/8000 [==============================] - 2s 193us/step - loss: 0.4001 - acc: 0.8354\n",
      "Epoch 81/100\n",
      "8000/8000 [==============================] - 2s 189us/step - loss: 0.4000 - acc: 0.8339\n",
      "Epoch 82/100\n"
     ]
    },
    {
     "name": "stdout",
     "output_type": "stream",
     "text": [
      "8000/8000 [==============================] - 2s 189us/step - loss: 0.4002 - acc: 0.8347\n",
      "Epoch 83/100\n",
      "8000/8000 [==============================] - 1s 184us/step - loss: 0.4004 - acc: 0.8345\n",
      "Epoch 84/100\n",
      "8000/8000 [==============================] - 1s 187us/step - loss: 0.3999 - acc: 0.8347\n",
      "Epoch 85/100\n",
      "8000/8000 [==============================] - 1s 184us/step - loss: 0.4002 - acc: 0.8351\n",
      "Epoch 86/100\n",
      "8000/8000 [==============================] - 1s 180us/step - loss: 0.4000 - acc: 0.8351\n",
      "Epoch 87/100\n",
      "8000/8000 [==============================] - 1s 71us/step - loss: 0.4003 - acc: 0.8370\n",
      "Epoch 88/100\n",
      "8000/8000 [==============================] - 1s 69us/step - loss: 0.3998 - acc: 0.8336\n",
      "Epoch 89/100\n",
      "8000/8000 [==============================] - 1s 73us/step - loss: 0.4001 - acc: 0.8344\n",
      "Epoch 90/100\n",
      "8000/8000 [==============================] - 1s 73us/step - loss: 0.4000 - acc: 0.8347\n",
      "Epoch 91/100\n",
      "8000/8000 [==============================] - 1s 72us/step - loss: 0.3997 - acc: 0.8332\n",
      "Epoch 92/100\n",
      "8000/8000 [==============================] - 1s 70us/step - loss: 0.3991 - acc: 0.8341\n",
      "Epoch 93/100\n",
      "8000/8000 [==============================] - 1s 73us/step - loss: 0.4001 - acc: 0.8354\n",
      "Epoch 94/100\n",
      "8000/8000 [==============================] - 1s 69us/step - loss: 0.3994 - acc: 0.8351\n",
      "Epoch 95/100\n",
      "8000/8000 [==============================] - 1s 117us/step - loss: 0.3998 - acc: 0.8346\n",
      "Epoch 96/100\n",
      "8000/8000 [==============================] - 1s 175us/step - loss: 0.3997 - acc: 0.8330\n",
      "Epoch 97/100\n",
      "8000/8000 [==============================] - 1s 179us/step - loss: 0.4000 - acc: 0.8344\n",
      "Epoch 98/100\n",
      "8000/8000 [==============================] - 1s 178us/step - loss: 0.4004 - acc: 0.8346\n",
      "Epoch 99/100\n",
      "8000/8000 [==============================] - 1s 175us/step - loss: 0.3994 - acc: 0.8359\n",
      "Epoch 100/100\n",
      "8000/8000 [==============================] - 1s 182us/step - loss: 0.3997 - acc: 0.8345\n"
     ]
    },
    {
     "data": {
      "text/plain": [
       "<keras.callbacks.History at 0x2e37cbcab38>"
      ]
     },
     "execution_count": 47,
     "metadata": {},
     "output_type": "execute_result"
    }
   ],
   "source": [
    "# Fitting the ANN to the Training set\n",
    "classifier.fit(X_train, y_train, batch_size = 10, nb_epoch = 100)"
   ]
  },
  {
   "cell_type": "markdown",
   "metadata": {},
   "source": [
    "## Making the predictions and evaluating the model"
   ]
  },
  {
   "cell_type": "code",
   "execution_count": 55,
   "metadata": {},
   "outputs": [],
   "source": [
    "# Predicting the Test set results\n",
    "y_pred = classifier.predict(X_test)\n",
    "y_pred = (y_pred > 0.5)"
   ]
  },
  {
   "cell_type": "code",
   "execution_count": 56,
   "metadata": {},
   "outputs": [
    {
     "data": {
      "text/plain": [
       "array([[1550,   45],\n",
       "       [ 271,  134]], dtype=int64)"
      ]
     },
     "execution_count": 56,
     "metadata": {},
     "output_type": "execute_result"
    }
   ],
   "source": [
    "# Making the Confusion Matrix\n",
    "from sklearn.metrics import confusion_matrix\n",
    "cm = confusion_matrix(y_test, y_pred)\n",
    "cm"
   ]
  },
  {
   "cell_type": "code",
   "execution_count": null,
   "metadata": {},
   "outputs": [],
   "source": []
  }
 ],
 "metadata": {
  "kernelspec": {
   "display_name": "Python 3",
   "language": "python",
   "name": "python3"
  },
  "language_info": {
   "codemirror_mode": {
    "name": "ipython",
    "version": 3
   },
   "file_extension": ".py",
   "mimetype": "text/x-python",
   "name": "python",
   "nbconvert_exporter": "python",
   "pygments_lexer": "ipython3",
   "version": "3.6.4"
  }
 },
 "nbformat": 4,
 "nbformat_minor": 2
}
